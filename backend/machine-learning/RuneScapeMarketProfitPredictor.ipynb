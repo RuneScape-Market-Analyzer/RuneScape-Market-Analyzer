{
  "nbformat": 4,
  "nbformat_minor": 0,
  "metadata": {
    "colab": {
      "provenance": [],
      "gpuType": "T4"
    },
    "kernelspec": {
      "name": "python3",
      "display_name": "Python 3"
    },
    "language_info": {
      "name": "python"
    },
    "accelerator": "GPU"
  },
  "cells": [
    {
      "cell_type": "code",
      "execution_count": 4,
      "metadata": {
        "id": "dpXswyo2oFBg"
      },
      "outputs": [],
      "source": [
        "import numpy as np\n",
        "import pandas as pd\n",
        "import matplotlib.pyplot as plt\n",
        "import seaborn as sns\n",
        "from sklearn.model_selection import train_test_split\n",
        "from sklearn.ensemble import RandomForestRegressor\n",
        "from sklearn.metrics import mean_absolute_error\n",
        "import joblib\n",
        "import requests"
      ]
    },
    {
      "cell_type": "code",
      "source": [
        "# call api\n",
        "url = \"https://api.weirdgloop.org/exchange/history/rs/all?id=2\"\n",
        "\n",
        "response = requests.get(url)\n",
        "data = response.json()\n",
        "\n",
        "# Extract the list from the correct key (item ID)\n",
        "item_id = \"2\"\n",
        "if item_id in data:\n",
        "    df = pd.DataFrame(data[item_id])  # Convert to DataFrame\n",
        "    df[\"timestamp\"] = pd.to_datetime(df[\"timestamp\"], unit=\"ms\")  # Convert timestamp from milliseconds\n",
        "    print(df.head())\n",
        "else:\n",
        "    print(f\"Item ID {item_id} not found in response.\")"
      ],
      "metadata": {
        "colab": {
          "base_uri": "https://localhost:8080/"
        },
        "id": "KAUYnoNjqC6-",
        "outputId": "16415291-c28e-42cf-8b65-e91d9d975fea"
      },
      "execution_count": 51,
      "outputs": [
        {
          "output_type": "stream",
          "name": "stdout",
          "text": [
            "  id  price  volume  timestamp\n",
            "0  2    188     NaN 2008-05-21\n",
            "1  2    186     NaN 2008-05-22\n",
            "2  2    186     NaN 2008-05-23\n",
            "3  2    184     NaN 2008-05-24\n",
            "4  2    184     NaN 2008-05-25\n"
          ]
        }
      ]
    },
    {
      "cell_type": "code",
      "source": [
        "# create features\n",
        "df[\"prev_price\"] = df[\"price\"].shift(1)\n",
        "X = df[[\"prev_price\"]]  # features\n",
        "y = df[\"price\"]  # target\n",
        "\n",
        "X_train, X_test, y_train, y_test = train_test_split(X, y, test_size=0.2, random_state=42)"
      ],
      "metadata": {
        "id": "sG2oHIcZqMhu"
      },
      "execution_count": 52,
      "outputs": []
    },
    {
      "cell_type": "code",
      "source": [
        "# train model\n",
        "model = RandomForestRegressor(n_estimators=100, random_state=42)\n",
        "model.fit(X_train, y_train)\n",
        "\n",
        "y_pred = model.predict(X_test)\n",
        "\n",
        "mae = mean_absolute_error(y_test, y_pred)\n",
        "print(f\"Mean Absolute Error: {mae}\")"
      ],
      "metadata": {
        "colab": {
          "base_uri": "https://localhost:8080/"
        },
        "id": "uOR27oHiqReJ",
        "outputId": "593a2e8c-2f70-4f9d-930d-28769e89c551"
      },
      "execution_count": 53,
      "outputs": [
        {
          "output_type": "stream",
          "name": "stdout",
          "text": [
            "Mean Absolute Error: 8.169253473106481\n"
          ]
        }
      ]
    },
    {
      "cell_type": "code",
      "source": [
        "# save model\n",
        "joblib.dump(model, \"runescape_model.pkl\")"
      ],
      "metadata": {
        "colab": {
          "base_uri": "https://localhost:8080/"
        },
        "id": "K1d4vHdCqWjA",
        "outputId": "c3c3ce2d-faab-4292-82db-7ab81ae66542"
      },
      "execution_count": 54,
      "outputs": [
        {
          "output_type": "execute_result",
          "data": {
            "text/plain": [
              "['runescape_model.pkl']"
            ]
          },
          "metadata": {},
          "execution_count": 54
        }
      ]
    },
    {
      "cell_type": "code",
      "source": [
        "# load model\n",
        "model = joblib.load(\"runescape_model.pkl\")"
      ],
      "metadata": {
        "id": "wMpaATn9qXPO"
      },
      "execution_count": 55,
      "outputs": []
    },
    {
      "cell_type": "code",
      "source": [
        "# test prediction\n",
        "latest_price = df[\"prev_price\"].iloc[-1]\n",
        "\n",
        "next_input = pd.DataFrame([[latest_price]], columns=[\"prev_price\"])\n",
        "\n",
        "predicted_price = model.predict(next_input)\n",
        "\n",
        "print(f\"Predicted Next Price: {predicted_price[0]}\")"
      ],
      "metadata": {
        "colab": {
          "base_uri": "https://localhost:8080/"
        },
        "id": "HXE3TO5fqYP0",
        "outputId": "ee831870-cbbe-441b-bff1-65d67bb1dada"
      },
      "execution_count": 56,
      "outputs": [
        {
          "output_type": "stream",
          "name": "stdout",
          "text": [
            "Predicted Next Price: 1511.8491666666669\n"
          ]
        }
      ]
    }
  ]
}